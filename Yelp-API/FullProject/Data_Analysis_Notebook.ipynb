{
 "cells": [
  {
   "cell_type": "markdown",
   "metadata": {},
   "source": [
    "## Unit 05 Project: Web Service APIs - Token Aquisition Notebook\n",
    "John Fernow, Jordan Gelber  \n",
    "12 December 2017"
   ]
  },
  {
   "cell_type": "markdown",
   "metadata": {},
   "source": [
    "#### Journal:\n",
    "<p>When creating the Ratings to Reviews chart in Tableau, we wanted the data in a form of a bar graph. The requirement for a bar graph is 0 or more dimensions and 1 or more measures. We converted \"Rating\" to a dimension, so we were confused as to why we couldn't create the bar graph. After testing some things, we found out if we converted rating to a string (as opposed to a decimal) it allowed us to create the bar graph.</p>\n",
    "\n",
    "<p>When we went about analyzing if businesses with URLs or image URLs had better ratings, we realized all 1,000 of our businesses had both. We considered checking some smaller towns for such analysis, but upon viewing them, there often was not sufficient data. For example, my home town, Bremen, Ohio, did not have a single restuaurant with more than 7 reviews (one of them even had 0). In many towns, the sample size would be too small to make any useful conclusion, so we decided to stick to the top 20 most populated US cities.</p>"
   ]
  },
  {
   "cell_type": "markdown",
   "metadata": {},
   "source": [
    "## Do businesses with more ratings have higher reviews?\n",
    "![Ratings to Reviews](ratings_to_reviews.png \"Ratings to Reviews\")\n",
    "<p>As the chart above shows, the answer is clearly no. We hypothesized that businesses with more ratings would have higher reviews, as we believed that with better reviews, more people would go to the restaurant, and thus there would be more reviews. On the other hand, it is a common belief people only leave reviews when they're displeased with a business. However, that is clearly not the case either.</p>\n",
    "\n",
    "## What is the average business rating?\n",
    "![Average Business Rating](avg_business_rating.png \"Average Business Rating\")\n",
    "<p>The average business rating, as shown above, is around a 4.3. We hypothesized it would not be nearly that high. And while the data shows that it is, we are not convinced it is accurate. We believe that our search query was retrieving higher rated businesses first, even if we requested it to sort by distance. When looking at the master CSV file, there were only two businesses (out of 1,000) with a 3 star rating. A quick search on Yelp searching by a specific address (and going to a later page) shows that it is much more frequent than that. Unfortunately, as we discussed in the Data Acquisition Notebook, due to Yelp's restrictions on its API, there is no clear way around this.</p>\n",
    "\n",
    "## Do prices effect ratings?\n",
    "![Price to Rating](price_to_rating.png \"Price to Rating\")\n",
    "<p>As we can see above, there is very little correlation with price and rating. We hypothesized that more expensive restaurants would have higher ratings, as we would think they would have higher quality products/food.</p>\n",
    "\n",
    "## Do the available transactions of a business effect how high its rating is?\n",
    "![Transactions to Rating](transactions_to_rating.png \"Transactions to Rating\")\n",
    "<p>Like before, there is no strong correlation with the number or type of transactions a businesses offers with rating. We hypothesized that businesses with more types of transactions would have a higher rating as it would be more convenient for the customer.</p>"
   ]
  }
 ],
 "metadata": {
  "kernelspec": {
   "display_name": "Python 3",
   "language": "python",
   "name": "python3"
  },
  "language_info": {
   "codemirror_mode": {
    "name": "ipython",
    "version": 3
   },
   "file_extension": ".py",
   "mimetype": "text/x-python",
   "name": "python",
   "nbconvert_exporter": "python",
   "pygments_lexer": "ipython3",
   "version": "3.6.1"
  }
 },
 "nbformat": 4,
 "nbformat_minor": 2
}
