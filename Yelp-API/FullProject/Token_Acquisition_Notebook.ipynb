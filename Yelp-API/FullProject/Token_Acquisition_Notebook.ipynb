{
 "cells": [
  {
   "cell_type": "markdown",
   "metadata": {},
   "source": [
    "## Unit 05 Project: Web Service APIs - Token Aquisition Notebook\n",
    "John Fernow, Jordan Gelber  \n",
    "12 December 2017"
   ]
  },
  {
   "cell_type": "markdown",
   "metadata": {},
   "source": [
    "#### Journal:\n",
    "<p> After Jordan and I decided what we wanted to research from Yelp, we needed to begin the process of authentication. At first, we had to create a Yelp account. Then, we began creating our app on the website. From there, we named our app, selected the industry the application was for, left a contact email and description. Fortunately, unlike Instagram, leaving a website and company name was optional. After hitting create, it gave us our client ID and client secret, which we stored and kept safe. It also informed us our Daily API limit was 25000.</p>\n",
    "<p> With that in mind, we began the process of receiving a token. We knew the URL we were supposed to make the POST call to, but we weren't exactly sure how to modify it to get a proper response. We knew it needed our client ID and secret, but didn't know the format for tacking it on to our URL. On the site, it showed us what the parameters were, but it didn't say how to format those parameters. With inspiration from the Instagram POST statement we previously made, through trial and error, we found out the format within a couple minutes. Once we got a proper response, we saved it as a dictionary, using an interesting method to convert it (since the response format is not by default a particularly useful format, and it is easier to work with it as a dictionary than using .text and then string manipulation). With that, we had our access token and saw it did not expire for a very long time (around 29.5 years).</p>"
   ]
  },
  {
   "cell_type": "code",
   "execution_count": 2,
   "metadata": {},
   "outputs": [],
   "source": [
    "import requests, json, keys\n",
    "import pandas as pd"
   ]
  },
  {
   "cell_type": "code",
   "execution_count": 3,
   "metadata": {
    "collapsed": true
   },
   "outputs": [],
   "source": [
    "def getAccessToken():\n",
    "    \"\"\"\n",
    "    This function connects takes information created from our Yelp \n",
    "    keychain and posts it to the corresponding URL in order to\n",
    "    receive an access token. \n",
    "    \n",
    "    Input: None\n",
    "    Output: string access_token \n",
    "    \"\"\"\n",
    "    # gather information from keys.py\n",
    "    keychain = keys.keychain\n",
    "    client_id = keychain['yelp']['client_id']\n",
    "    client_secret = keychain['yelp']['client_secret']\n",
    "    \n",
    "    # request token \n",
    "    r = requests.post('https://api.yelp.com/oauth2/token?grant_type=client_credentials&client_id='+client_id+'&client_secret='+client_secret)\n",
    "    \n",
    "    # save response as dictionary\n",
    "    r_dict = json.loads(r.text)\n",
    "\n",
    "    # save token from response body \n",
    "    access_token = r_dict['access_token']\n",
    "    \n",
    "    return access_token\n",
    "\n",
    "access_token = getAccessToken()"
   ]
  },
  {
   "cell_type": "code",
   "execution_count": 4,
   "metadata": {
    "collapsed": true
   },
   "outputs": [],
   "source": [
    "def saveToken():\n",
    "    \"\"\"Saves access token to plain text file.\"\"\"\n",
    "\n",
    "    with open(\"access_token.txt\",\"w\") as file:\n",
    "        file.write(access_token)\n",
    "    \n",
    "saveToken()"
   ]
  }
 ],
 "metadata": {
  "kernelspec": {
   "display_name": "Python 3",
   "language": "python",
   "name": "python3"
  },
  "language_info": {
   "codemirror_mode": {
    "name": "ipython",
    "version": 3
   },
   "file_extension": ".py",
   "mimetype": "text/x-python",
   "name": "python",
   "nbconvert_exporter": "python",
   "pygments_lexer": "ipython3",
   "version": "3.6.1"
  }
 },
 "nbformat": 4,
 "nbformat_minor": 2
}
